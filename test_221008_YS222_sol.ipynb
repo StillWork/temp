{
  "cells": [
    {
      "cell_type": "markdown",
      "metadata": {
        "id": "view-in-github",
        "colab_type": "text"
      },
      "source": [
        "<a href=\"https://colab.research.google.com/github/StillWork/temp/blob/main/test_221008_YS222_sol.ipynb\" target=\"_parent\"><img src=\"https://colab.research.google.com/assets/colab-badge.svg\" alt=\"Open In Colab\"/></a>"
      ]
    },
    {
      "cell_type": "markdown",
      "id": "d442b5ad",
      "metadata": {
        "id": "d442b5ad"
      },
      "source": [
        "# 파이썬 프로그래밍 테스트\n",
        "\n",
        "### 답안은 pdf 또는 html로 저장하여 메일로 제출하시오 \n",
        "- hjkim3@gmail.com\n",
        "- Control-P 로 출력하면서 pdf로 저장하거나,\n",
        "- File - Download as - HTML로 저장하면 됩니다"
      ]
    },
    {
      "cell_type": "markdown",
      "source": [],
      "metadata": {
        "id": "sb0T70T8LEqi"
      },
      "id": "sb0T70T8LEqi"
    },
    {
      "cell_type": "code",
      "execution_count": null,
      "id": "ef3660ca",
      "metadata": {
        "id": "ef3660ca"
      },
      "outputs": [],
      "source": [
        "import pandas as pd\n",
        "import numpy as np\n",
        "import matplotlib.pyplot as plt"
      ]
    },
    {
      "cell_type": "markdown",
      "id": "902ead78",
      "metadata": {
        "id": "902ead78"
      },
      "source": [
        "## 아래 주어진 데이터프레임 df에 대해서 문제를 풀이하시오"
      ]
    },
    {
      "cell_type": "code",
      "execution_count": null,
      "id": "bb805db7",
      "metadata": {
        "id": "bb805db7",
        "outputId": "673a793e-da33-432b-e21d-267b9ca8362d"
      },
      "outputs": [
        {
          "data": {
            "text/html": [
              "<div>\n",
              "<style scoped>\n",
              "    .dataframe tbody tr th:only-of-type {\n",
              "        vertical-align: middle;\n",
              "    }\n",
              "\n",
              "    .dataframe tbody tr th {\n",
              "        vertical-align: top;\n",
              "    }\n",
              "\n",
              "    .dataframe thead th {\n",
              "        text-align: right;\n",
              "    }\n",
              "</style>\n",
              "<table border=\"1\" class=\"dataframe\">\n",
              "  <thead>\n",
              "    <tr style=\"text-align: right;\">\n",
              "      <th></th>\n",
              "      <th>city</th>\n",
              "      <th>population</th>\n",
              "      <th>temp</th>\n",
              "    </tr>\n",
              "  </thead>\n",
              "  <tbody>\n",
              "    <tr>\n",
              "      <th>0</th>\n",
              "      <td>서울</td>\n",
              "      <td>990</td>\n",
              "      <td>13</td>\n",
              "    </tr>\n",
              "    <tr>\n",
              "      <th>1</th>\n",
              "      <td>부산</td>\n",
              "      <td>350</td>\n",
              "      <td>16</td>\n",
              "    </tr>\n",
              "    <tr>\n",
              "      <th>2</th>\n",
              "      <td>대구</td>\n",
              "      <td>250</td>\n",
              "      <td>14</td>\n",
              "    </tr>\n",
              "    <tr>\n",
              "      <th>3</th>\n",
              "      <td>대전</td>\n",
              "      <td>154</td>\n",
              "      <td>13</td>\n",
              "    </tr>\n",
              "    <tr>\n",
              "      <th>4</th>\n",
              "      <td>광주</td>\n",
              "      <td>150</td>\n",
              "      <td>15</td>\n",
              "    </tr>\n",
              "  </tbody>\n",
              "</table>\n",
              "</div>"
            ],
            "text/plain": [
              "  city  population  temp\n",
              "0   서울         990    13\n",
              "1   부산         350    16\n",
              "2   대구         250    14\n",
              "3   대전         154    13\n",
              "4   광주         150    15"
            ]
          },
          "execution_count": 2,
          "metadata": {},
          "output_type": "execute_result"
        }
      ],
      "source": [
        "d = {'city': ['서울', '부산', '대구', '대전', '광주'],\n",
        "        'population': [990, 350, 250, 154, 150],\n",
        "        'temp': [13, 16, 14, 13, 15]}\n",
        "\n",
        "df = pd.DataFrame(d)\n",
        "df"
      ]
    },
    {
      "cell_type": "markdown",
      "id": "862c8719",
      "metadata": {
        "id": "862c8719"
      },
      "source": [
        "### (1) 인구(population)가 200 이상인 샘플(행)만 추출하시오"
      ]
    },
    {
      "cell_type": "code",
      "execution_count": null,
      "id": "c058c40b",
      "metadata": {
        "id": "c058c40b"
      },
      "outputs": [],
      "source": []
    },
    {
      "cell_type": "markdown",
      "id": "fb83f972",
      "metadata": {
        "id": "fb83f972"
      },
      "source": [
        "### (2) 인구가 많은 순으로 (내림차순으로) 정렬한 데이터프레임을 만드시오"
      ]
    },
    {
      "cell_type": "code",
      "execution_count": null,
      "id": "42c19c16",
      "metadata": {
        "id": "42c19c16"
      },
      "outputs": [],
      "source": []
    },
    {
      "cell_type": "markdown",
      "id": "7a7fb458",
      "metadata": {
        "id": "7a7fb458"
      },
      "source": [
        "### (3) df의 5개 도시의 인구의 평균치를 구하고 인구가 이 평균치보다 적은 도시 행을 출력하시오"
      ]
    },
    {
      "cell_type": "code",
      "execution_count": null,
      "id": "ad8b366a",
      "metadata": {
        "id": "ad8b366a"
      },
      "outputs": [],
      "source": []
    },
    {
      "cell_type": "markdown",
      "id": "847e4512",
      "metadata": {
        "id": "847e4512"
      },
      "source": [
        "### (4) df2를 df2.csv 파일로 저장하는 프로그램을 작성하시오"
      ]
    },
    {
      "cell_type": "code",
      "execution_count": null,
      "id": "c48444a8",
      "metadata": {
        "id": "c48444a8"
      },
      "outputs": [],
      "source": []
    },
    {
      "cell_type": "markdown",
      "id": "755a53d9",
      "metadata": {
        "id": "755a53d9"
      },
      "source": [
        "## 아래의 (6,5) 모양의 어레이 x에 대해서 문제를 풀이하시오"
      ]
    },
    {
      "cell_type": "code",
      "execution_count": null,
      "id": "c8ff13f1",
      "metadata": {
        "id": "c8ff13f1",
        "outputId": "c4c91787-6ba7-4902-e1b2-a2978edc33c0",
        "colab": {
          "base_uri": "https://localhost:8080/"
        }
      },
      "outputs": [
        {
          "output_type": "execute_result",
          "data": {
            "text/plain": [
              "array([[ 0,  1,  2,  3,  4],\n",
              "       [ 5,  6,  7,  8,  9],\n",
              "       [10, 11, 12, 13, 14],\n",
              "       [15, 16, 17, 18, 19],\n",
              "       [20, 21, 22, 23, 24],\n",
              "       [25, 26, 27, 28, 29]])"
            ]
          },
          "metadata": {},
          "execution_count": 4
        }
      ],
      "source": [
        "x = np.arange(30).reshape(6,5)\n",
        "x"
      ]
    },
    {
      "cell_type": "markdown",
      "id": "f4379d43",
      "metadata": {
        "id": "f4379d43"
      },
      "source": [
        "### (5) 위의 x에는 6개의 행이 있는데 홀수번째의 행만 추출한(즉, 샘플 데이터를 반으로 줄인) x2를 얻는 코드를 작성하시오"
      ]
    },
    {
      "cell_type": "code",
      "execution_count": null,
      "id": "fe011416",
      "metadata": {
        "id": "fe011416",
        "outputId": "f06a307c-6947-435b-fc08-d6eb39b7dd71",
        "colab": {
          "base_uri": "https://localhost:8080/"
        }
      },
      "outputs": [
        {
          "output_type": "execute_result",
          "data": {
            "text/plain": [
              "array([[ 0,  3],\n",
              "       [ 5,  8],\n",
              "       [10, 13],\n",
              "       [15, 18],\n",
              "       [20, 23],\n",
              "       [25, 28]])"
            ]
          },
          "metadata": {},
          "execution_count": 7
        }
      ],
      "source": [
        "x[:,::3]"
      ]
    },
    {
      "cell_type": "markdown",
      "id": "18d93865",
      "metadata": {
        "id": "18d93865"
      },
      "source": [
        "### (6) 위의 (6,5) 모양의 어레이 x에 대해서 각 행(row)의 합계를 우측에 기록한 후, 각 열(column)의 평균값을 아래에 나타내는 (7,6) 크기의 데이터프레임 df3을 만드시오\n"
      ]
    },
    {
      "cell_type": "code",
      "execution_count": null,
      "id": "a3051d2d",
      "metadata": {
        "id": "a3051d2d",
        "outputId": "ac218863-643f-4486-e15c-130dcf43e3ed",
        "colab": {
          "base_uri": "https://localhost:8080/"
        }
      },
      "outputs": [
        {
          "output_type": "execute_result",
          "data": {
            "text/plain": [
              "array([[ 0,  1,  2,  3,  4],\n",
              "       [ 5,  6,  7,  8,  9],\n",
              "       [10, 11, 12, 13, 14],\n",
              "       [15, 16, 17, 18, 19],\n",
              "       [20, 21, 22, 23, 24],\n",
              "       [25, 26, 27, 28, 29]])"
            ]
          },
          "metadata": {},
          "execution_count": 8
        }
      ],
      "source": [
        "x"
      ]
    },
    {
      "cell_type": "code",
      "source": [
        "df = pd.DataFrame(x)\n",
        "df['sum'] = df.sum(1)\n",
        "df.loc['6'] = df.mean(0)\n",
        "df"
      ],
      "metadata": {
        "collapsed": true,
        "id": "1UX_0JwALeQy",
        "outputId": "2c533846-7f93-46d6-fd9f-98f6739b6a97",
        "colab": {
          "base_uri": "https://localhost:8080/"
        }
      },
      "id": "1UX_0JwALeQy",
      "execution_count": null,
      "outputs": [
        {
          "output_type": "execute_result",
          "data": {
            "text/plain": [
              "      0     1     2     3     4    sum\n",
              "0   0.0   1.0   2.0   3.0   4.0   10.0\n",
              "1   5.0   6.0   7.0   8.0   9.0   35.0\n",
              "2  10.0  11.0  12.0  13.0  14.0   60.0\n",
              "3  15.0  16.0  17.0  18.0  19.0   85.0\n",
              "4  20.0  21.0  22.0  23.0  24.0  110.0\n",
              "5  25.0  26.0  27.0  28.0  29.0  135.0\n",
              "6  12.5  13.5  14.5  15.5  16.5   72.5"
            ],
            "text/html": [
              "\n",
              "  <div id=\"df-8840d658-b4b9-40cf-807d-7dddb1f9814d\">\n",
              "    <div class=\"colab-df-container\">\n",
              "      <div>\n",
              "<style scoped>\n",
              "    .dataframe tbody tr th:only-of-type {\n",
              "        vertical-align: middle;\n",
              "    }\n",
              "\n",
              "    .dataframe tbody tr th {\n",
              "        vertical-align: top;\n",
              "    }\n",
              "\n",
              "    .dataframe thead th {\n",
              "        text-align: right;\n",
              "    }\n",
              "</style>\n",
              "<table border=\"1\" class=\"dataframe\">\n",
              "  <thead>\n",
              "    <tr style=\"text-align: right;\">\n",
              "      <th></th>\n",
              "      <th>0</th>\n",
              "      <th>1</th>\n",
              "      <th>2</th>\n",
              "      <th>3</th>\n",
              "      <th>4</th>\n",
              "      <th>sum</th>\n",
              "    </tr>\n",
              "  </thead>\n",
              "  <tbody>\n",
              "    <tr>\n",
              "      <th>0</th>\n",
              "      <td>0.0</td>\n",
              "      <td>1.0</td>\n",
              "      <td>2.0</td>\n",
              "      <td>3.0</td>\n",
              "      <td>4.0</td>\n",
              "      <td>10.0</td>\n",
              "    </tr>\n",
              "    <tr>\n",
              "      <th>1</th>\n",
              "      <td>5.0</td>\n",
              "      <td>6.0</td>\n",
              "      <td>7.0</td>\n",
              "      <td>8.0</td>\n",
              "      <td>9.0</td>\n",
              "      <td>35.0</td>\n",
              "    </tr>\n",
              "    <tr>\n",
              "      <th>2</th>\n",
              "      <td>10.0</td>\n",
              "      <td>11.0</td>\n",
              "      <td>12.0</td>\n",
              "      <td>13.0</td>\n",
              "      <td>14.0</td>\n",
              "      <td>60.0</td>\n",
              "    </tr>\n",
              "    <tr>\n",
              "      <th>3</th>\n",
              "      <td>15.0</td>\n",
              "      <td>16.0</td>\n",
              "      <td>17.0</td>\n",
              "      <td>18.0</td>\n",
              "      <td>19.0</td>\n",
              "      <td>85.0</td>\n",
              "    </tr>\n",
              "    <tr>\n",
              "      <th>4</th>\n",
              "      <td>20.0</td>\n",
              "      <td>21.0</td>\n",
              "      <td>22.0</td>\n",
              "      <td>23.0</td>\n",
              "      <td>24.0</td>\n",
              "      <td>110.0</td>\n",
              "    </tr>\n",
              "    <tr>\n",
              "      <th>5</th>\n",
              "      <td>25.0</td>\n",
              "      <td>26.0</td>\n",
              "      <td>27.0</td>\n",
              "      <td>28.0</td>\n",
              "      <td>29.0</td>\n",
              "      <td>135.0</td>\n",
              "    </tr>\n",
              "    <tr>\n",
              "      <th>6</th>\n",
              "      <td>12.5</td>\n",
              "      <td>13.5</td>\n",
              "      <td>14.5</td>\n",
              "      <td>15.5</td>\n",
              "      <td>16.5</td>\n",
              "      <td>72.5</td>\n",
              "    </tr>\n",
              "  </tbody>\n",
              "</table>\n",
              "</div>\n",
              "      <button class=\"colab-df-convert\" onclick=\"convertToInteractive('df-8840d658-b4b9-40cf-807d-7dddb1f9814d')\"\n",
              "              title=\"Convert this dataframe to an interactive table.\"\n",
              "              style=\"display:none;\">\n",
              "        \n",
              "  <svg xmlns=\"http://www.w3.org/2000/svg\" height=\"24px\"viewBox=\"0 0 24 24\"\n",
              "       width=\"24px\">\n",
              "    <path d=\"M0 0h24v24H0V0z\" fill=\"none\"/>\n",
              "    <path d=\"M18.56 5.44l.94 2.06.94-2.06 2.06-.94-2.06-.94-.94-2.06-.94 2.06-2.06.94zm-11 1L8.5 8.5l.94-2.06 2.06-.94-2.06-.94L8.5 2.5l-.94 2.06-2.06.94zm10 10l.94 2.06.94-2.06 2.06-.94-2.06-.94-.94-2.06-.94 2.06-2.06.94z\"/><path d=\"M17.41 7.96l-1.37-1.37c-.4-.4-.92-.59-1.43-.59-.52 0-1.04.2-1.43.59L10.3 9.45l-7.72 7.72c-.78.78-.78 2.05 0 2.83L4 21.41c.39.39.9.59 1.41.59.51 0 1.02-.2 1.41-.59l7.78-7.78 2.81-2.81c.8-.78.8-2.07 0-2.86zM5.41 20L4 18.59l7.72-7.72 1.47 1.35L5.41 20z\"/>\n",
              "  </svg>\n",
              "      </button>\n",
              "      \n",
              "  <style>\n",
              "    .colab-df-container {\n",
              "      display:flex;\n",
              "      flex-wrap:wrap;\n",
              "      gap: 12px;\n",
              "    }\n",
              "\n",
              "    .colab-df-convert {\n",
              "      background-color: #E8F0FE;\n",
              "      border: none;\n",
              "      border-radius: 50%;\n",
              "      cursor: pointer;\n",
              "      display: none;\n",
              "      fill: #1967D2;\n",
              "      height: 32px;\n",
              "      padding: 0 0 0 0;\n",
              "      width: 32px;\n",
              "    }\n",
              "\n",
              "    .colab-df-convert:hover {\n",
              "      background-color: #E2EBFA;\n",
              "      box-shadow: 0px 1px 2px rgba(60, 64, 67, 0.3), 0px 1px 3px 1px rgba(60, 64, 67, 0.15);\n",
              "      fill: #174EA6;\n",
              "    }\n",
              "\n",
              "    [theme=dark] .colab-df-convert {\n",
              "      background-color: #3B4455;\n",
              "      fill: #D2E3FC;\n",
              "    }\n",
              "\n",
              "    [theme=dark] .colab-df-convert:hover {\n",
              "      background-color: #434B5C;\n",
              "      box-shadow: 0px 1px 3px 1px rgba(0, 0, 0, 0.15);\n",
              "      filter: drop-shadow(0px 1px 2px rgba(0, 0, 0, 0.3));\n",
              "      fill: #FFFFFF;\n",
              "    }\n",
              "  </style>\n",
              "\n",
              "      <script>\n",
              "        const buttonEl =\n",
              "          document.querySelector('#df-8840d658-b4b9-40cf-807d-7dddb1f9814d button.colab-df-convert');\n",
              "        buttonEl.style.display =\n",
              "          google.colab.kernel.accessAllowed ? 'block' : 'none';\n",
              "\n",
              "        async function convertToInteractive(key) {\n",
              "          const element = document.querySelector('#df-8840d658-b4b9-40cf-807d-7dddb1f9814d');\n",
              "          const dataTable =\n",
              "            await google.colab.kernel.invokeFunction('convertToInteractive',\n",
              "                                                     [key], {});\n",
              "          if (!dataTable) return;\n",
              "\n",
              "          const docLinkHtml = 'Like what you see? Visit the ' +\n",
              "            '<a target=\"_blank\" href=https://colab.research.google.com/notebooks/data_table.ipynb>data table notebook</a>'\n",
              "            + ' to learn more about interactive tables.';\n",
              "          element.innerHTML = '';\n",
              "          dataTable['output_type'] = 'display_data';\n",
              "          await google.colab.output.renderOutput(dataTable, element);\n",
              "          const docLink = document.createElement('div');\n",
              "          docLink.innerHTML = docLinkHtml;\n",
              "          element.appendChild(docLink);\n",
              "        }\n",
              "      </script>\n",
              "    </div>\n",
              "  </div>\n",
              "  "
            ]
          },
          "metadata": {},
          "execution_count": 11
        }
      ]
    },
    {
      "cell_type": "code",
      "source": [
        "x2 = x.sum(1).reshape(-1,1)\n",
        "x3 = np.hstack((x, x2))\n",
        "x3"
      ],
      "metadata": {
        "collapsed": true,
        "id": "371GhtB_MeKR",
        "outputId": "35843820-69f3-4649-ceec-1756e89e0579",
        "colab": {
          "base_uri": "https://localhost:8080/"
        }
      },
      "id": "371GhtB_MeKR",
      "execution_count": null,
      "outputs": [
        {
          "output_type": "execute_result",
          "data": {
            "text/plain": [
              "array([[  0,   1,   2,   3,   4,  10],\n",
              "       [  5,   6,   7,   8,   9,  35],\n",
              "       [ 10,  11,  12,  13,  14,  60],\n",
              "       [ 15,  16,  17,  18,  19,  85],\n",
              "       [ 20,  21,  22,  23,  24, 110],\n",
              "       [ 25,  26,  27,  28,  29, 135]])"
            ]
          },
          "metadata": {},
          "execution_count": 21
        }
      ]
    },
    {
      "cell_type": "code",
      "source": [
        "np.c_[(x, x2)]"
      ],
      "metadata": {
        "collapsed": true,
        "id": "RnYT4mIQNNXK",
        "outputId": "07fbb618-0f2b-4b5d-c1c0-d255359ef575",
        "colab": {
          "base_uri": "https://localhost:8080/"
        }
      },
      "id": "RnYT4mIQNNXK",
      "execution_count": null,
      "outputs": [
        {
          "output_type": "execute_result",
          "data": {
            "text/plain": [
              "array([[  0,   1,   2,   3,   4,  10],\n",
              "       [  5,   6,   7,   8,   9,  35],\n",
              "       [ 10,  11,  12,  13,  14,  60],\n",
              "       [ 15,  16,  17,  18,  19,  85],\n",
              "       [ 20,  21,  22,  23,  24, 110],\n",
              "       [ 25,  26,  27,  28,  29, 135]])"
            ]
          },
          "metadata": {},
          "execution_count": 17
        }
      ]
    },
    {
      "cell_type": "code",
      "source": [
        "x3.mean(0)"
      ],
      "metadata": {
        "id": "o4P_-N_gMeDC",
        "outputId": "86690e83-241d-4bd6-ecdf-834beaa0cadc",
        "colab": {
          "base_uri": "https://localhost:8080/"
        }
      },
      "id": "o4P_-N_gMeDC",
      "execution_count": null,
      "outputs": [
        {
          "output_type": "execute_result",
          "data": {
            "text/plain": [
              "array([12.5, 13.5, 14.5, 15.5, 16.5, 72.5])"
            ]
          },
          "metadata": {},
          "execution_count": 23
        }
      ]
    },
    {
      "cell_type": "code",
      "source": [
        "np.vstack((x3, x3.mean(0)))"
      ],
      "metadata": {
        "id": "WkLwiMpwNwiZ",
        "outputId": "fc2957ce-7045-4d0d-804e-fa353c18b400",
        "colab": {
          "base_uri": "https://localhost:8080/"
        }
      },
      "id": "WkLwiMpwNwiZ",
      "execution_count": null,
      "outputs": [
        {
          "output_type": "execute_result",
          "data": {
            "text/plain": [
              "array([[  0. ,   1. ,   2. ,   3. ,   4. ,  10. ],\n",
              "       [  5. ,   6. ,   7. ,   8. ,   9. ,  35. ],\n",
              "       [ 10. ,  11. ,  12. ,  13. ,  14. ,  60. ],\n",
              "       [ 15. ,  16. ,  17. ,  18. ,  19. ,  85. ],\n",
              "       [ 20. ,  21. ,  22. ,  23. ,  24. , 110. ],\n",
              "       [ 25. ,  26. ,  27. ,  28. ,  29. , 135. ],\n",
              "       [ 12.5,  13.5,  14.5,  15.5,  16.5,  72.5]])"
            ]
          },
          "metadata": {},
          "execution_count": 25
        }
      ]
    },
    {
      "cell_type": "code",
      "source": [],
      "metadata": {
        "id": "JKDdPOrxNwZp"
      },
      "id": "JKDdPOrxNwZp",
      "execution_count": null,
      "outputs": []
    },
    {
      "cell_type": "code",
      "source": [
        "df.values"
      ],
      "metadata": {
        "id": "RQsM9_S4LeMB",
        "outputId": "705859bd-fd99-4ef8-dcce-863aa344f25a",
        "colab": {
          "base_uri": "https://localhost:8080/"
        }
      },
      "id": "RQsM9_S4LeMB",
      "execution_count": null,
      "outputs": [
        {
          "output_type": "execute_result",
          "data": {
            "text/plain": [
              "array([[  0. ,   1. ,   2. ,   3. ,   4. ,  10. ],\n",
              "       [  5. ,   6. ,   7. ,   8. ,   9. ,  35. ],\n",
              "       [ 10. ,  11. ,  12. ,  13. ,  14. ,  60. ],\n",
              "       [ 15. ,  16. ,  17. ,  18. ,  19. ,  85. ],\n",
              "       [ 20. ,  21. ,  22. ,  23. ,  24. , 110. ],\n",
              "       [ 25. ,  26. ,  27. ,  28. ,  29. , 135. ],\n",
              "       [ 12.5,  13.5,  14.5,  15.5,  16.5,  72.5]])"
            ]
          },
          "metadata": {},
          "execution_count": 12
        }
      ]
    },
    {
      "cell_type": "code",
      "source": [],
      "metadata": {
        "id": "FlxDJWz1LeGx"
      },
      "id": "FlxDJWz1LeGx",
      "execution_count": null,
      "outputs": []
    },
    {
      "cell_type": "code",
      "source": [],
      "metadata": {
        "id": "YVqlaoiqLeAi"
      },
      "id": "YVqlaoiqLeAi",
      "execution_count": null,
      "outputs": []
    },
    {
      "cell_type": "markdown",
      "id": "00ceeeb1",
      "metadata": {
        "id": "00ceeeb1"
      },
      "source": [
        "### (7) 위의 데이터프레임 df3의 수치 값만 포함하는 (7,6) 크기의 어레이 x3를 만드시오"
      ]
    },
    {
      "cell_type": "code",
      "execution_count": null,
      "id": "e865e125",
      "metadata": {
        "id": "e865e125"
      },
      "outputs": [],
      "source": []
    },
    {
      "cell_type": "markdown",
      "id": "5dcec8b3",
      "metadata": {
        "id": "5dcec8b3"
      },
      "source": [
        "### (8) $x, y$ 의 입출력 관계가 $ y = 0.2x^2 -0.5x +2$와 같을 때 $ 0 < x < 5 $ 범위에서 $x, y$의 관계를 그래프로 그리시오"
      ]
    },
    {
      "cell_type": "code",
      "execution_count": null,
      "id": "6d1c5cc4",
      "metadata": {
        "id": "6d1c5cc4",
        "outputId": "6e575882-5d4f-4ffb-e486-7e10ec08d083",
        "colab": {
          "base_uri": "https://localhost:8080/",
          "height": 283
        }
      },
      "outputs": [
        {
          "output_type": "execute_result",
          "data": {
            "text/plain": [
              "[<matplotlib.lines.Line2D at 0x7fe56f3aca90>]"
            ]
          },
          "metadata": {},
          "execution_count": 27
        },
        {
          "output_type": "display_data",
          "data": {
            "text/plain": [
              "<Figure size 432x288 with 1 Axes>"
            ],
            "image/png": "[encoded data removed]"
          },
          "metadata": {
            "needs_background": "light"
          }
        }
      ],
      "source": [
        "xs = np.linspace(0,5,100)\n",
        "plt.plot(xs, 0.2*xs*xs -0.5*xs +2)"
      ]
    },
    {
      "cell_type": "code",
      "source": [],
      "metadata": {
        "id": "bPr8pQFqOlPK"
      },
      "id": "bPr8pQFqOlPK",
      "execution_count": null,
      "outputs": []
    }
  ],
  "metadata": {
    "kernelspec": {
      "display_name": "Python 3",
      "language": "python",
      "name": "python3"
    },
    "language_info": {
      "codemirror_mode": {
        "name": "ipython",
        "version": 3
      },
      "file_extension": ".py",
      "mimetype": "text/x-python",
      "name": "python",
      "nbconvert_exporter": "python",
      "pygments_lexer": "ipython3",
      "version": "3.8.8"
    },
    "toc": {
      "base_numbering": 1,
      "nav_menu": {},
      "number_sections": false,
      "sideBar": true,
      "skip_h1_title": false,
      "title_cell": "Table of Contents",
      "title_sidebar": "Contents",
      "toc_cell": false,
      "toc_position": {},
      "toc_section_display": true,
      "toc_window_display": false
    },
    "colab": {
      "provenance": [],
      "include_colab_link": true
    }
  },
  "nbformat": 4,
  "nbformat_minor": 5
}