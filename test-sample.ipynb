{
 "cells": [
  {
   "cell_type": "markdown",
   "id": "d442b5ad",
   "metadata": {},
   "source": [
    "# 파이썬 프로그래밍 테스트\n",
    "\n",
    "### 답안은 pdf 또는 html로 저장하여 메일로 제출하시오 \n",
    "- hjkim3@gmail.com\n",
    "- Control-P 로 출력하면서 pdf로 저장하거나,\n",
    "- File - Download as - HTML로 저장하면 됩니다"
   ]
  },
  {
   "cell_type": "code",
   "execution_count": 1,
   "id": "ef3660ca",
   "metadata": {},
   "outputs": [],
   "source": [
    "import pandas as pd\n",
    "import numpy as np\n",
    "import matplotlib.pyplot as plt"
   ]
  },
  {
   "cell_type": "markdown",
   "id": "e8c4a7ee",
   "metadata": {},
   "source": [
    "### (1) 두개의 숫자를 입력받아 곱한 값을 리턴하는 함수를 정의하시오"
   ]
  },
  {
   "cell_type": "code",
   "execution_count": null,
   "id": "24707fc2",
   "metadata": {},
   "outputs": [],
   "source": []
  }
 ],
 "metadata": {
  "kernelspec": {
   "display_name": "Python 3",
   "language": "python",
   "name": "python3"
  },
  "language_info": {
   "codemirror_mode": {
    "name": "ipython",
    "version": 3
   },
   "file_extension": ".py",
   "mimetype": "text/x-python",
   "name": "python",
   "nbconvert_exporter": "python",
   "pygments_lexer": "ipython3",
   "version": "3.8.8"
  },
  "toc": {
   "base_numbering": 1,
   "nav_menu": {},
   "number_sections": false,
   "sideBar": true,
   "skip_h1_title": false,
   "title_cell": "Table of Contents",
   "title_sidebar": "Contents",
   "toc_cell": false,
   "toc_position": {},
   "toc_section_display": true,
   "toc_window_display": false
  }
 },
 "nbformat": 4,
 "nbformat_minor": 5
}
